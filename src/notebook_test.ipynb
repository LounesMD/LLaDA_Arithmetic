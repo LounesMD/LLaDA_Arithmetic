{
 "cells": [
  {
   "cell_type": "code",
   "execution_count": 2,
   "metadata": {},
   "outputs": [
    {
     "name": "stdout",
     "output_type": "stream",
     "text": [
      "--2025-03-22 22:02:41--  https://raw.githubusercontent.com/karpathy/char-rnn/master/data/tinyshakespeare/input.txt\n",
      "Résolution de raw.githubusercontent.com (raw.githubusercontent.com)… 2606:50c0:8002::154, 2606:50c0:8003::154, 2606:50c0:8000::154, ...\n",
      "Connexion à raw.githubusercontent.com (raw.githubusercontent.com)|2606:50c0:8002::154|:443… connecté.\n",
      "requête HTTP transmise, en attente de la réponse… 200 OK\n",
      "Taille : 1115394 (1,1M) [text/plain]\n",
      "Sauvegarde en : « input.txt »\n",
      "\n",
      "input.txt           100%[===================>]   1,06M  --.-KB/s    ds 0,04s   \n",
      "\n",
      "2025-03-22 22:02:42 (27,0 MB/s) — « input.txt » sauvegardé [1115394/1115394]\n",
      "\n"
     ]
    }
   ],
   "source": [
    "path = 'https://raw.githubusercontent.com/karpathy/char-rnn/master/data/tinyshakespeare/input.txt'\n",
    "\n",
    "\n",
    "!wget https://raw.githubusercontent.com/karpathy/char-rnn/master/data/tinyshakespeare/input.txt"
   ]
  },
  {
   "cell_type": "code",
   "execution_count": 79,
   "metadata": {},
   "outputs": [],
   "source": [
    "data = open('input.txt', 'r').read()"
   ]
  },
  {
   "cell_type": "code",
   "execution_count": 80,
   "metadata": {},
   "outputs": [
    {
     "name": "stdout",
     "output_type": "stream",
     "text": [
      "338025\n"
     ]
    }
   ],
   "source": [
    "import tiktoken\n",
    "import torch\n",
    "\n",
    "train_proportion = 0.8\n",
    "enc = tiktoken.get_encoding('gpt2')\n",
    "tokenizer = enc\n",
    "\n",
    "# print vocab size\n",
    "vocab_size = len(tokenizer.encode(data))\n",
    "print(vocab_size)\n"
   ]
  },
  {
   "cell_type": "code",
   "execution_count": 39,
   "metadata": {},
   "outputs": [],
   "source": [
    "# Choose a token ID that is not used in the encoding\n",
    "MASK_TOKEN_ID = 2 # Ensure this ID is unused in your model\n",
    "\n",
    "# Add it to the special token dictionary\n",
    "enc._special_tokens[\"<MASK>\"] = MASK_TOKEN_ID\n"
   ]
  },
  {
   "cell_type": "code",
   "execution_count": 40,
   "metadata": {},
   "outputs": [
    {
     "name": "stdout",
     "output_type": "stream",
     "text": [
      "Encoded: [1212, 318, 257, 1279, 31180, 42, 29, 11241, 13]\n",
      "Decoded: #\n"
     ]
    }
   ],
   "source": [
    "text = \"This is a <MASK> token.\"\n",
    "tokens = enc.encode(text, allowed_special={\"<MASK>\"})  # Ensure the token is used\n",
    "print(\"Encoded:\", tokens)\n",
    "\n",
    "tokens = [MASK_TOKEN_ID]\n",
    "# Decode back\n",
    "decoded_text = enc.decode(tokens)\n",
    "print(\"Decoded:\", decoded_text)\n"
   ]
  },
  {
   "cell_type": "code",
   "execution_count": null,
   "metadata": {},
   "outputs": [],
   "source": []
  },
  {
   "cell_type": "code",
   "execution_count": 58,
   "metadata": {},
   "outputs": [
    {
     "name": "stdout",
     "output_type": "stream",
     "text": [
      "torch.Size([10563, 32, 1])\n"
     ]
    }
   ],
   "source": [
    "enc.n_tokens = 50255\n",
    "\n",
    "\n",
    "tokens = enc.encode(data)\n",
    "x = torch.tensor(tokens)\n",
    "# create batch\n",
    "batch_size = 32\n",
    "n_batch = len(x) // batch_size\n",
    "x = x[:n_batch * batch_size]\n",
    "x = x.view(n_batch, batch_size, -1)\n",
    "print(x.shape)\n",
    "data_train = x[:int(train_proportion * n_batch)]\n",
    "data_test = x[int(train_proportion * n_batch):]"
   ]
  },
  {
   "cell_type": "code",
   "execution_count": 59,
   "metadata": {},
   "outputs": [],
   "source": [
    "input_tensor = data_train[0]"
   ]
  },
  {
   "cell_type": "code",
   "execution_count": 60,
   "metadata": {},
   "outputs": [
    {
     "name": "stdout",
     "output_type": "stream",
     "text": [
      "torch.Size([32, 1])\n"
     ]
    }
   ],
   "source": [
    "print(input_tensor.shape)"
   ]
  },
  {
   "cell_type": "code",
   "execution_count": 61,
   "metadata": {},
   "outputs": [
    {
     "name": "stdout",
     "output_type": "stream",
     "text": [
      "tensor([[ 5962],\n",
      "        [22307],\n",
      "        [   25],\n",
      "        [  198],\n",
      "        [ 8421],\n",
      "        [  356],\n",
      "        [ 5120],\n",
      "        [  597],\n",
      "        [ 2252],\n",
      "        [   11],\n",
      "        [ 3285],\n",
      "        [  502],\n",
      "        [ 2740],\n",
      "        [   13],\n",
      "        [  198],\n",
      "        [  198],\n",
      "        [ 3237],\n",
      "        [   25],\n",
      "        [  198],\n",
      "        [ 5248],\n",
      "        [  461],\n",
      "        [   11],\n",
      "        [ 2740],\n",
      "        [   13],\n",
      "        [  198],\n",
      "        [  198],\n",
      "        [ 5962],\n",
      "        [22307],\n",
      "        [   25],\n",
      "        [  198],\n",
      "        [ 1639],\n",
      "        [  389]])\n"
     ]
    }
   ],
   "source": [
    "print(input_tensor)"
   ]
  },
  {
   "cell_type": "code",
   "execution_count": 62,
   "metadata": {},
   "outputs": [
    {
     "name": "stdout",
     "output_type": "stream",
     "text": [
      "torch.Size([2113, 32, 1])\n"
     ]
    }
   ],
   "source": [
    "print(data_test.shape)"
   ]
  },
  {
   "cell_type": "code",
   "execution_count": 74,
   "metadata": {},
   "outputs": [
    {
     "data": {
      "text/plain": [
       "1115394"
      ]
     },
     "execution_count": 74,
     "metadata": {},
     "output_type": "execute_result"
    }
   ],
   "source": [
    "len(data)"
   ]
  },
  {
   "cell_type": "code",
   "execution_count": 64,
   "metadata": {},
   "outputs": [],
   "source": [
    "input_tokens = data_test[0]"
   ]
  },
  {
   "cell_type": "code",
   "execution_count": 67,
   "metadata": {},
   "outputs": [
    {
     "name": "stdout",
     "output_type": "stream",
     "text": [
      "tensor([[   32],\n",
      "        [   25],\n",
      "        [  198],\n",
      "        [   46],\n",
      "        [   11],\n",
      "        [  277],\n",
      "        [  494],\n",
      "        [   11],\n",
      "        [  277],\n",
      "        [  494],\n",
      "        [   11],\n",
      "        [  277],\n",
      "        [  494],\n",
      "        [    0],\n",
      "        [  198],\n",
      "        [  817],\n",
      "        [   88],\n",
      "        [ 7813],\n",
      "        [  338],\n",
      "        [  407],\n",
      "        [23221],\n",
      "        [   11],\n",
      "        [  475],\n",
      "        [  257],\n",
      "        [ 3292],\n",
      "        [   13],\n",
      "        [  198],\n",
      "        [13102],\n",
      "        [  948],\n",
      "        [  284],\n",
      "        [17903],\n",
      "        [  561]])\n"
     ]
    }
   ],
   "source": [
    "print(input_tokens)\n"
   ]
  },
  {
   "cell_type": "code",
   "execution_count": 69,
   "metadata": {},
   "outputs": [],
   "source": [
    "input_tokens = input_tokens.squeeze(1)"
   ]
  },
  {
   "cell_type": "code",
   "execution_count": 71,
   "metadata": {},
   "outputs": [
    {
     "name": "stdout",
     "output_type": "stream",
     "text": [
      "torch.Size([32])\n",
      "tensor([   32,    25,   198,    46,    11,   277,   494,    11,   277,   494,\n",
      "           11,   277,   494,     0,   198,   817,    88,  7813,   338,   407,\n",
      "        23221,    11,   475,   257,  3292,    13,   198, 13102,   948,   284,\n",
      "        17903,   561])\n"
     ]
    }
   ],
   "source": [
    "print(input_tokens.shape)\n",
    "print(input_tokens)"
   ]
  },
  {
   "cell_type": "code",
   "execution_count": 72,
   "metadata": {},
   "outputs": [
    {
     "data": {
      "text/plain": [
       "\"A:\\nO, fie, fie, fie!\\nThy sin's not accidental, but a trade.\\nMercy to thee would\""
      ]
     },
     "execution_count": 72,
     "metadata": {},
     "output_type": "execute_result"
    }
   ],
   "source": [
    "tokenizer.decode(input_tokens.detach().numpy().tolist())"
   ]
  }
 ],
 "metadata": {
  "kernelspec": {
   "display_name": "llm",
   "language": "python",
   "name": "python3"
  },
  "language_info": {
   "codemirror_mode": {
    "name": "ipython",
    "version": 3
   },
   "file_extension": ".py",
   "mimetype": "text/x-python",
   "name": "python",
   "nbconvert_exporter": "python",
   "pygments_lexer": "ipython3",
   "version": "3.11.11"
  }
 },
 "nbformat": 4,
 "nbformat_minor": 2
}
